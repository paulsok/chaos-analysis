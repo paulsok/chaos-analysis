{
 "cells": [
  {
   "cell_type": "code",
   "execution_count": null,
   "metadata": {},
   "outputs": [],
   "source": [
    "#Import libraries\n",
    "%matplotlib inline\n",
    "import matplotlib.pyplot as plt\n",
    "import numpy as np\n",
    "from scipy import signal"
   ]
  },
  {
   "cell_type": "markdown",
   "metadata": {},
   "source": [
    "**PSD, FFT**"
   ]
  },
  {
   "cell_type": "code",
   "execution_count": null,
   "metadata": {},
   "outputs": [],
   "source": [
    "#Name of the file############################################################\n",
    "name='best_777_T_Bz=5A_Bx=0.08A_exc810_det852.3_5mW_5K_sigma+_PEM_(30min).txt'\n",
    "#############################################################################\n",
    "\n",
    "exp_data = np.loadtxt(name, skiprows=1, delimiter='\\t')\n",
    "\n",
    "t=exp_data[:,0]\n",
    "rho=exp_data[:,3]\n",
    "\n",
    "#FFT\n",
    "sp = np.fft.fft(rho)\n",
    "freq_fft = np.fft.fftfreq(t.shape[-1])\n",
    "power_fft=(sp.real)**2\n",
    "power_fft[0]=0\n",
    "\n",
    "freq, power = signal.periodogram(rho, scaling='spectrum')\n",
    "#freq, power = signal.welch(rho, scaling='spectrum')\n",
    "\n",
    "font = {'size': 20}\n",
    "\n",
    "#Main signal\n",
    "plt.figure(figsize=(15, 5))\n",
    "plt.title(r'Signal')\n",
    "plt.ylabel(\"$p_c$(%)\")\n",
    "plt.xlabel(\"Time (s)\")\n",
    "plt.plot(t, rho, 'g', lw=2)\n",
    "plt.xlim([0,max(t)])\n",
    "plt.rc('font', **font)\n",
    "\n",
    "#Power spectrum\n",
    "plt.figure(figsize=(15, 5))\n",
    "plt.title(r'Power spectral density')\n",
    "plt.semilogy(freq, power, 'k')\n",
    "plt.xlabel('frequency [Hz]')\n",
    "plt.ylabel('PSD [V**2/Hz]')\n",
    "axes = plt.gca()\n",
    "axes.set_xlim([0,0.5])\n",
    "axes.set_ylim([10**-15,max(power)+max(power)*10])\n",
    "\n",
    "#FFT\n",
    "plt.figure(figsize=(15, 5))\n",
    "plt.title(r'FFT')\n",
    "plt.plot(freq, power, 'r')\n",
    "axes = plt.gca()\n",
    "axes.set_xlim([0,0.5])\n",
    "axes.set_ylim([0,max(power)+max(power)*0.1])\n",
    "axes.fill_between(freq, 0, power, facecolor='red')\n",
    "plt.xlabel(r'frequency [Hz]')\n",
    "plt.ylabel(r'(arb. un.)')\n",
    "plt.yticks([])"
   ]
  },
  {
   "cell_type": "markdown",
   "metadata": {},
   "source": [
    "**Autocorrelation**\n",
    "\n",
    "The autocorrelation of a signal describes the similarity of a signal against a time-shifted version of itself. For a signal $x$, the autocorrelation $r$ is:\n",
    "$$r(k)=∑_nx(n)x(n−k)$$\n",
    " \n",
    "In this equation, $k$ is often called the lag parameter.  $r(k)$ is maximized at  $k=0$ and is symmetric about $k$.\n",
    "The autocorrelation is useful for finding repeated patterns in a signal. For example, at short lags, the autocorrelation can tell us something about the signal's fundamental frequency. For longer lags, the autocorrelation may tell us something about the tempo of a musical signal."
   ]
  },
  {
   "cell_type": "code",
   "execution_count": null,
   "metadata": {},
   "outputs": [],
   "source": [
    "N = len(rho)\n",
    "fvi = np.fft.fft(rho, n=2*N)\n",
    "acf = np.real(np.fft.ifft(fvi * np.conjugate(fvi))[:N])\n",
    "acf = acf/(N - np.arange(N))\n",
    "\n",
    "plt.figure(figsize=(15, 5))\n",
    "plt.title(r'Autocorrelation')\n",
    "plt.xlabel(r'Time delay $t$')\n",
    "plt.ylabel(r'$r(t)$')\n",
    "plt.plot(t[0:len(acf)-int(len(acf)/2)], acf[0:len(acf)-int(len(acf)/2)], 'r')\n",
    "plt.grid(color='black', linewidth=1)\n",
    "plt.rc('font', **font)\n"
   ]
  },
  {
   "cell_type": "markdown",
   "metadata": {},
   "source": [
    "**Embedding time**"
   ]
  },
  {
   "cell_type": "markdown",
   "metadata": {},
   "source": [
    "The time delayed mutual information was suggested by Fraser and Swinney as a tool to determine a reasonable delay: Unlike the autocorrelation function, the mutual information takes into account also nonlinear correlations. One has to compute\n",
    "$$\n",
    "S = - \\sum_{ij} p_{ij}(\\tau) ln \\frac{p_{ij}(\\tau)}{p_ip_j}, \n",
    "$$\n",
    "where for some partition on the real numbers $p_{ij}$ is the probability to find a time series value in the $i$-th interval, and $p_{ij}(\\tau)$ is the joint probability that an observation falls into the $i$-th interval and the observation time $\\tau$ later falls into the $j$-th. In theory this expression has no systematic dependence on the size of the partition elements and can be quite easily computed. There exist good arguments that if the time delayed mutual information exhibits a marked minimum at a certain value of $\\tau$, then this is a good candidate for a reasonable time delay. However, these arguments have to be modified when the embedding dimension exceeds two. Moreover, as will become transparent in the following sections, not all applications work optimally with the same delay. Since we are not really interested in absolute values of the mutual information here but rather in the first minimum, the minimal implementation given here seems to be sufficient."
   ]
  },
  {
   "cell_type": "code",
   "execution_count": null,
   "metadata": {},
   "outputs": [],
   "source": []
  },
  {
   "cell_type": "code",
   "execution_count": null,
   "metadata": {},
   "outputs": [],
   "source": []
  }
 ],
 "metadata": {
  "kernelspec": {
   "display_name": "Python 3",
   "language": "python",
   "name": "python3"
  },
  "language_info": {
   "codemirror_mode": {
    "name": "ipython",
    "version": 3
   },
   "file_extension": ".py",
   "mimetype": "text/x-python",
   "name": "python",
   "nbconvert_exporter": "python",
   "pygments_lexer": "ipython3",
   "version": "3.7.6"
  }
 },
 "nbformat": 4,
 "nbformat_minor": 4
}
