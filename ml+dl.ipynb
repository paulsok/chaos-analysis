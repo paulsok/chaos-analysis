{
  "nbformat": 4,
  "nbformat_minor": 0,
  "metadata": {
    "accelerator": "GPU",
    "colab": {
      "name": "ml+dl.ipynb",
      "provenance": [],
      "collapsed_sections": []
    },
    "kernelspec": {
      "display_name": "Python 3",
      "language": "python",
      "name": "python3"
    },
    "language_info": {
      "codemirror_mode": {
        "name": "ipython",
        "version": 3
      },
      "file_extension": ".py",
      "mimetype": "text/x-python",
      "name": "python",
      "nbconvert_exporter": "python",
      "pygments_lexer": "ipython3",
      "version": "3.6.13"
    }
  },
  "cells": [
    {
      "cell_type": "code",
      "metadata": {
        "id": "cBf7SThp5KCV"
      },
      "source": [
        "import numpy as np\n",
        "import warnings\n",
        "import matplotlib.pyplot as plt\n",
        "import tensorflow.keras as keras\n",
        "from keras.models import Sequential\n",
        "from keras.layers import Dense, Dropout, Flatten\n",
        "from keras.layers import Conv1D, MaxPooling1D\n",
        "from sklearn.preprocessing import OneHotEncoder\n",
        "from sklearn.preprocessing import StandardScaler\n",
        "from sklearn.model_selection import train_test_split\n",
        "from sklearn.neighbors import NearestCentroid\n",
        "from sklearn.neighbors import KNeighborsClassifier\n",
        "from sklearn.naive_bayes import GaussianNB\n",
        "from sklearn.ensemble import RandomForestClassifier\n",
        "from sklearn.svm import LinearSVC\n",
        "\n",
        "warnings.filterwarnings(\"ignore\")\n",
        "%matplotlib inline"
      ],
      "execution_count": null,
      "outputs": []
    },
    {
      "cell_type": "markdown",
      "metadata": {
        "id": "2tGUZlMV_Y8k"
      },
      "source": [
        "**Data preparation**"
      ]
    },
    {
      "cell_type": "code",
      "metadata": {
        "id": "YDPgArjw6YGJ"
      },
      "source": [
        "# read dataset\n",
        "def read_data(filename):\n",
        "    data = np.loadtxt(filename, delimiter=',')\n",
        "    x = data[:, 1:]\n",
        "    y = data[:, 0]\n",
        "\n",
        "    return (x, y)\n",
        "\n",
        "\n",
        "file_name = '/content/drive/MyDrive/data.txt'\n",
        "X, y = read_data(file_name)\n",
        "\n",
        "print(f'X:shape = {X.shape}, y:shape = {y.shape}')"
      ],
      "execution_count": null,
      "outputs": []
    },
    {
      "cell_type": "code",
      "metadata": {
        "id": "ocsE6bQNmZ2b"
      },
      "source": [
        "# plot every class time series\n",
        "fig, axs = plt.subplots(nrows=7, ncols=2, figsize=(15, 10),\n",
        "                        subplot_kw={'xticks': [], 'yticks': []})\n",
        "\n",
        "for ax, n in zip(axs.flat, range(0, X.shape[0], 9)):\n",
        "    ax.plot(X[n, :])\n",
        "    ax.set_title(f'Time series: {n}')"
      ],
      "execution_count": null,
      "outputs": []
    },
    {
      "cell_type": "code",
      "metadata": {
        "id": "n3EgYHMyTUZ4"
      },
      "source": [
        "# count unique classes\n",
        "num_class = len(np.unique(y))\n",
        "\n",
        "print(f'Number of classes: {num_class}')"
      ],
      "execution_count": null,
      "outputs": []
    },
    {
      "cell_type": "code",
      "metadata": {
        "id": "gyfeseLoUnCq"
      },
      "source": [
        "# train-test split\n",
        "x_train, x_test, y_train, y_test = train_test_split(X, y, test_size=0.2,\n",
        "                                                    random_state=42, shuffle=True)"
      ],
      "execution_count": null,
      "outputs": []
    },
    {
      "cell_type": "code",
      "metadata": {
        "id": "Yu4YHbBpslpb"
      },
      "source": [
        "# scale the data\n",
        "scaler = StandardScaler()\n",
        "\n",
        "X_train = scaler.fit_transform(x_train)\n",
        "X_test = scaler.transform(x_test)\n",
        "\n",
        "print(f'X_train:shape = {X_train.shape}, X_test:shape = {X_test.shape}')"
      ],
      "execution_count": null,
      "outputs": []
    },
    {
      "cell_type": "code",
      "metadata": {
        "id": "FYQhOfL9TUTT"
      },
      "source": [
        "# encoding class labels\n",
        "encoder = OneHotEncoder(categories='auto')\n",
        "\n",
        "Y_train = encoder.fit_transform(y_train.reshape(-1, 1)).toarray()\n",
        "Y_test = encoder.transform(y_test.reshape(-1, 1)).toarray()\n",
        "\n",
        "print(f'Y_train:shape = {Y_train.shape}, Y_test:shape = {Y_test.shape}')"
      ],
      "execution_count": null,
      "outputs": []
    },
    {
      "cell_type": "markdown",
      "metadata": {
        "id": "N9iiYqgC_eD6"
      },
      "source": [
        "**Machine learning**"
      ]
    },
    {
      "cell_type": "code",
      "metadata": {
        "id": "1pnNlnzC_jKc"
      },
      "source": [
        "# run each classfier\n",
        "def run(x_train, y_train, x_test, y_test, clf):\n",
        "    clf.fit(x_train, y_train)\n",
        "    score = 100 * clf.score(x_test, y_test)\n",
        "    print(\"score = %0.2f%%\" % score)\n",
        "\n",
        "\n",
        "# K-Neighbors and Random Forest classifiers\n",
        "def first_set(x_train, y_train, x_test, y_test):\n",
        "    print(\"k-NN classifier (k=3) : \", end='')\n",
        "    run(x_train, y_train, x_test, y_test, KNeighborsClassifier(n_neighbors=3))\n",
        "\n",
        "    print(\"k-NN classifier (k=7) : \", end='')\n",
        "    run(x_train, y_train, x_test, y_test, KNeighborsClassifier(n_neighbors=7))\n",
        "\n",
        "    print(\"Random Forest (trees= 5) : \", end='')\n",
        "    run(x_train, y_train, x_test, y_test, RandomForestClassifier(n_estimators=5))\n",
        "\n",
        "    print(\"Random Forest (trees= 50) : \", end='')\n",
        "    run(x_train, y_train, x_test, y_test,\n",
        "        RandomForestClassifier(n_estimators=50))\n",
        "\n",
        "    print(\"Random Forest (trees=500) : \", end='')\n",
        "    run(x_train, y_train, x_test, y_test,\n",
        "        RandomForestClassifier(n_estimators=500))\n",
        "\n",
        "    print(\"Random Forest (trees=1000): \", end='')\n",
        "    run(x_train, y_train, x_test, y_test,\n",
        "        RandomForestClassifier(n_estimators=1000))\n",
        "\n",
        "\n",
        "# Nearest Centroid, Naive Bayes and Linear SVM classifiers\n",
        "def second_set(x_train, y_train, x_test, y_test):\n",
        "    print(\"Nearest Centroid : \", end='')\n",
        "    run(x_train, y_train, x_test, y_test, NearestCentroid())\n",
        "\n",
        "    print(\"Naive Bayes (Gaussian) : \", end='')\n",
        "    run(x_train, y_train, x_test, y_test, GaussianNB())\n",
        "\n",
        "    print(\"LinearSVM (C=0.01) : \", end='')\n",
        "    run(x_train, y_train, x_test, y_test, LinearSVC(C=0.01))\n",
        "\n",
        "    print(\"LinearSVM (C=0.1) : \", end='')\n",
        "    run(x_train, y_train, x_test, y_test, LinearSVC(C=0.1))\n",
        "\n",
        "    print(\"LinearSVM (C=1.0) : \", end='')\n",
        "    run(x_train, y_train, x_test, y_test, LinearSVC(C=1.0))\n",
        "\n",
        "    print(\"LinearSVM (C=10.0) : \", end='')\n",
        "    run(x_train, y_train, x_test, y_test, LinearSVC(C=10.0))\n",
        "\n",
        "\n",
        "first_set(X_train, Y_train, X_test, Y_test)\n",
        "second_set(X_train, y_train, X_test, y_test)"
      ],
      "execution_count": null,
      "outputs": []
    },
    {
      "cell_type": "markdown",
      "metadata": {
        "id": "vWsqkJkgD0rj"
      },
      "source": [
        "**Deep learning**"
      ]
    },
    {
      "cell_type": "code",
      "metadata": {
        "id": "HLjff5O16ZjN"
      },
      "source": [
        "# Multilayer Perceptron (MLP)\n",
        "class MLP:\n",
        "    def __init__(self, input_shape, num_class, verbose, build):\n",
        "        self.input_shape = input_shape\n",
        "        self.num_class = num_class\n",
        "        self.verbose = verbose\n",
        "        if build:\n",
        "            self.model = self.build_model()\n",
        "\n",
        "        self.model.summary()\n",
        "\n",
        "    def build_model(self):\n",
        "        model = Sequential()\n",
        "        model.add(Dense(1024, activation='relu', input_shape=self.input_shape))\n",
        "        model.add(Dropout(0.5))\n",
        "        model.add(Dense(512, activation='relu'))\n",
        "        model.add(Dropout(0.5))\n",
        "        model.add(Flatten())\n",
        "        model.add(Dense(num_class, activation='softmax'))\n",
        "\n",
        "        model.compile(loss=keras.losses.categorical_crossentropy,\n",
        "                      optimizer=keras.optimizers.Adam(), metrics=['accuracy'])\n",
        "\n",
        "        return model\n",
        "\n",
        "    def fit(self, num_epochs, x_train, y_train, x_val, y_val):\n",
        "        batch_size = 32\n",
        "\n",
        "        history = self.model.fit(x_train, y_train, batch_size=batch_size,\n",
        "                                 epochs=num_epochs, verbose=self.verbose,\n",
        "                                 validation_data=(x_val, y_val))\n",
        "\n",
        "        self.score = self.model.evaluate(X_test, Y_test, verbose=0)\n",
        "        print('Test accuracy:', self.score[1])\n",
        "\n",
        "        # summarize history for accuracy\n",
        "        plt.plot(history.history['accuracy'])\n",
        "        plt.plot(history.history['val_accuracy'])\n",
        "        plt.title('model accuracy')\n",
        "        plt.ylabel('accuracy')\n",
        "        plt.xlabel('epoch')\n",
        "        plt.legend(['train', 'test'], loc='upper left')\n",
        "        plt.show()\n",
        "\n",
        "        # summarize history for loss\n",
        "        plt.plot(history.history['loss'])\n",
        "        plt.plot(history.history['val_loss'])\n",
        "        plt.title('model loss')\n",
        "        plt.ylabel('loss')\n",
        "        plt.xlabel('epoch')\n",
        "        plt.legend(['train', 'test'], loc='upper left')\n",
        "        plt.show()\n",
        "\n",
        "    def predict(self, x):\n",
        "        y_pred = self.model.predict(x)\n",
        "\n",
        "        return y_pred"
      ],
      "execution_count": null,
      "outputs": []
    },
    {
      "cell_type": "code",
      "metadata": {
        "id": "ihFskWWx6ZgA"
      },
      "source": [
        "input_shape = X_train.shape[1:]\n",
        "\n",
        "classifier_mlp = MLP(input_shape, num_class, False, True)"
      ],
      "execution_count": null,
      "outputs": []
    },
    {
      "cell_type": "code",
      "metadata": {
        "id": "lzBFUmZZ6ZZb"
      },
      "source": [
        "classifier_mlp.fit(500, X_train, Y_train, X_test, Y_test)"
      ],
      "execution_count": null,
      "outputs": []
    },
    {
      "cell_type": "code",
      "metadata": {
        "id": "T37HxD49QBOe"
      },
      "source": [
        "# Shallow Network\n",
        "class ShNet:\n",
        "    def __init__(self, input_shape: tuple, num_class: int, verbose: bool, build: bool) -> None:\n",
        "        self.input_shape = input_shape\n",
        "        self.num_class = num_class\n",
        "        self.verbose = verbose\n",
        "        if build:\n",
        "            self.model = self.build_model()\n",
        "\n",
        "        self.model.summary()\n",
        "\n",
        "    def build_model(self):\n",
        "        model = Sequential()\n",
        "        model.add(Conv1D(32, kernel_size=3, activation='relu',\n",
        "                  input_shape=self.input_shape))\n",
        "        model.add(MaxPooling1D(pool_size=3))\n",
        "        model.add(Dropout(0.25))\n",
        "        model.add(Flatten())\n",
        "        model.add(Dense(512, activation='relu'))\n",
        "        model.add(Dropout(0.5))\n",
        "        model.add(Dense(num_class, activation='softmax'))\n",
        "\n",
        "        model.compile(loss=keras.losses.categorical_crossentropy,\n",
        "                      optimizer=keras.optimizers.Adam(),\n",
        "                      metrics=['accuracy'])\n",
        "\n",
        "        return model\n",
        "\n",
        "    def fit(self, num_epochs: int, x_train: tuple, y_train: tuple, x_val: tuple, y_val: tuple) -> None:\n",
        "        batch_size = 32\n",
        "\n",
        "        history = self.model.fit(x_train, y_train, batch_size=batch_size,\n",
        "                                 epochs=num_epochs, verbose=self.verbose,\n",
        "                                 validation_data=(x_val, y_val))\n",
        "\n",
        "        self.score = self.model.evaluate(X_test, Y_test, verbose=0)\n",
        "        print('Test accuracy:', self.score[1])\n",
        "\n",
        "        # summarize history for accuracy\n",
        "        plt.plot(history.history['accuracy'])\n",
        "        plt.plot(history.history['val_accuracy'])\n",
        "        plt.title('model accuracy')\n",
        "        plt.ylabel('accuracy')\n",
        "        plt.xlabel('epoch')\n",
        "        plt.legend(['train', 'test'], loc='upper left')\n",
        "        plt.show()\n",
        "\n",
        "        # summarize history for loss\n",
        "        plt.plot(history.history['loss'])\n",
        "        plt.plot(history.history['val_loss'])\n",
        "        plt.title('model loss')\n",
        "        plt.ylabel('loss')\n",
        "        plt.xlabel('epoch')\n",
        "        plt.legend(['train', 'test'], loc='upper left')\n",
        "        plt.show()\n",
        "\n",
        "    def predict(self, x: np.array) -> np.array:\n",
        "        y_pred = self.model.predict(x)\n",
        "\n",
        "        return y_pred"
      ],
      "execution_count": null,
      "outputs": []
    },
    {
      "cell_type": "code",
      "metadata": {
        "id": "i90xL2qjid7F"
      },
      "source": [
        "# add a dimension to make it multivariate\n",
        "X_train = X_train.reshape(X_train.shape[0], X_train.shape[1], 1)\n",
        "X_test = X_test.reshape(X_test.shape[0], X_test.shape[1], 1)"
      ],
      "execution_count": null,
      "outputs": []
    },
    {
      "cell_type": "code",
      "metadata": {
        "id": "E1088luofoCJ"
      },
      "source": [
        "input_shape = X_train.shape[1:]\n",
        "classifier_fcn = ShNet(input_shape, num_class, False, True)"
      ],
      "execution_count": null,
      "outputs": []
    },
    {
      "cell_type": "code",
      "metadata": {
        "id": "ZtmaZrutaqdx"
      },
      "source": [
        "classifier_fcn.fit(2000, X_train, Y_train, X_test, Y_test)"
      ],
      "execution_count": null,
      "outputs": []
    },
    {
      "cell_type": "code",
      "metadata": {
        "id": "0LklyyRqteek"
      },
      "source": [
        ""
      ],
      "execution_count": null,
      "outputs": []
    }
  ]
}