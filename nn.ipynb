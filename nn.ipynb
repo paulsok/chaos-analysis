{
 "cells": [
  {
   "cell_type": "code",
   "execution_count": null,
   "metadata": {
    "id": "cBf7SThp5KCV"
   },
   "outputs": [],
   "source": [
    "import numpy as np\n",
    "import matplotlib.pyplot as plt\n",
    "import tensorflow.keras as keras\n",
    "from sklearn.preprocessing import OneHotEncoder\n",
    "from sklearn.preprocessing import StandardScaler\n",
    "from sklearn.model_selection import train_test_split"
   ]
  },
  {
   "cell_type": "code",
   "execution_count": null,
   "metadata": {
    "id": "YDPgArjw6YGJ"
   },
   "outputs": [],
   "source": [
    "# read dataset\n",
    "file_name = '/content/drive/MyDrive/data.txt'\n",
    "\n",
    "\n",
    "def read_data(filename: str) -> tuple:\n",
    "    data = np.loadtxt(filename, delimiter=',')\n",
    "    x = data[:, 1:]\n",
    "    y = data[:, 0]\n",
    "\n",
    "    return (x, y)"
   ]
  },
  {
   "cell_type": "code",
   "execution_count": null,
   "metadata": {
    "id": "Ylri4H_ES25g"
   },
   "outputs": [],
   "source": [
    "# dataset shape\n",
    "X, y = read_data(file_name)\n",
    "\n",
    "print(f'X:shape = {X.shape}, y:shape = {y.shape}')"
   ]
  },
  {
   "cell_type": "code",
   "execution_count": null,
   "metadata": {
    "id": "n3EgYHMyTUZ4"
   },
   "outputs": [],
   "source": [
    "# count unique classes\n",
    "num_class = len(np.unique(y))\n",
    "\n",
    "print(f'Number of classes: {num_class}')"
   ]
  },
  {
   "cell_type": "code",
   "execution_count": null,
   "metadata": {
    "id": "gyfeseLoUnCq"
   },
   "outputs": [],
   "source": [
    "# train-test split\n",
    "X_train, X_test, y_train, y_test = train_test_split(X, y, test_size=0.2,\n",
    "                                                    random_state=42, shuffle=True)"
   ]
  },
  {
   "cell_type": "code",
   "execution_count": null,
   "metadata": {
    "id": "FYQhOfL9TUTT"
   },
   "outputs": [],
   "source": [
    "# encoding class labels\n",
    "encoder = OneHotEncoder(categories='auto')\n",
    "\n",
    "encoder.fit(np.concatenate((y_train, y_test), axis=0).reshape(-1, 1))\n",
    "Y_train = encoder.transform(y_train.reshape(-1, 1)).toarray()\n",
    "Y_test = encoder.transform(y_test.reshape(-1, 1)).toarray()\n",
    "\n",
    "print(f'Y_train:shape = {Y_train.shape}, Y_test:shape = {Y_test.shape}')\n",
    "print(f'X_train:shape = {X_train.shape}, X_test:shape = {X_test.shape}')"
   ]
  },
  {
   "cell_type": "code",
   "execution_count": null,
   "metadata": {
    "id": "HLjff5O16ZjN"
   },
   "outputs": [],
   "source": [
    "# Multilayer Perceptron (MLP)\n",
    "class MLP:\n",
    "    def __init__(self, input_shape: tuple, num_class: int, verbose: bool, build: bool) -> None:\n",
    "        self.input_shape = input_shape\n",
    "        self.num_class = num_class\n",
    "        self.verbose = verbose\n",
    "        if build:\n",
    "            self.model = self.build_model()\n",
    "\n",
    "        self.model.summary()\n",
    "\n",
    "    def build_model(self):\n",
    "        input_layer = keras.layers.Input(self.input_shape)\n",
    "\n",
    "        layer_1 = keras.layers.Dropout(0.1)(input_layer)\n",
    "        layer_1 = keras.layers.Dense(500, activation='relu')(layer_1)\n",
    "\n",
    "        layer_2 = keras.layers.Dropout(0.2)(layer_1)\n",
    "        layer_2 = keras.layers.Dense(500, activation='relu')(layer_2)\n",
    "\n",
    "        layer_3 = keras.layers.Dropout(0.2)(layer_2)\n",
    "        layer_3 = keras.layers.Dense(500, activation='relu')(layer_3)\n",
    "\n",
    "        output_layer = keras.layers.Dropout(0.3)(layer_3)\n",
    "        output_layer = keras.layers.Dense(self.num_class,\n",
    "                                          activation='softmax')(output_layer)\n",
    "\n",
    "        model = keras.models.Model(inputs=input_layer, outputs=output_layer)\n",
    "\n",
    "        model.compile(loss='categorical_crossentropy',\n",
    "                      optimizer=keras.optimizers.Adadelta(), metrics=['accuracy'])\n",
    "\n",
    "        self.reduce_lr = keras.callbacks.ReduceLROnPlateau(monitor='loss',\n",
    "                                                           factor=0.5,\n",
    "                                                           patience=200,\n",
    "                                                           min_lr=0.1)\n",
    "\n",
    "        return model\n",
    "\n",
    "    def fit(self, num_epochs: int, x_train: tuple, y_train: tuple, x_val: tuple, y_val: tuple) -> None:\n",
    "        batch_size = 1024\n",
    "\n",
    "        history = self.model.fit(x_train, y_train, batch_size=batch_size,\n",
    "                                 epochs=num_epochs, verbose=self.verbose,\n",
    "                                 validation_data=(x_val, y_val),\n",
    "                                 callbacks=self.reduce_lr)\n",
    "\n",
    "        self.model.save('MLP.hdf5')\n",
    "\n",
    "        # summarize history for accuracy\n",
    "        plt.plot(history.history['accuracy'])\n",
    "        plt.plot(history.history['val_accuracy'])\n",
    "        plt.title('model accuracy')\n",
    "        plt.ylabel('accuracy')\n",
    "        plt.xlabel('epoch')\n",
    "        plt.legend(['train', 'test'], loc='upper left')\n",
    "        plt.show()\n",
    "\n",
    "        # summarize history for loss\n",
    "        plt.plot(history.history['loss'])\n",
    "        plt.plot(history.history['val_loss'])\n",
    "        plt.title('model loss')\n",
    "        plt.ylabel('loss')\n",
    "        plt.xlabel('epoch')\n",
    "        plt.legend(['train', 'test'], loc='upper left')\n",
    "        plt.show()\n",
    "\n",
    "        keras.backend.clear_session()\n",
    "\n",
    "    def predict(self, x: np.array) -> np.array:\n",
    "        y_pred = self.model.predict(x)\n",
    "\n",
    "        return y_pred"
   ]
  },
  {
   "cell_type": "code",
   "execution_count": null,
   "metadata": {
    "id": "ihFskWWx6ZgA"
   },
   "outputs": [],
   "source": [
    "input_shape = X_train.shape[1:]\n",
    "\n",
    "classifier_mlp = MLP(input_shape, num_class, False, True)"
   ]
  },
  {
   "cell_type": "code",
   "execution_count": null,
   "metadata": {
    "id": "lzBFUmZZ6ZZb"
   },
   "outputs": [],
   "source": [
    "classifier_mlp.fit(10000, X_train, Y_train, X_test, Y_test)"
   ]
  },
  {
   "cell_type": "code",
   "execution_count": null,
   "metadata": {
    "id": "T37HxD49QBOe"
   },
   "outputs": [],
   "source": [
    "# Fully Convolutional Network (FCN)\n",
    "class FCN:\n",
    "    def __init__(self, input_shape: tuple, num_class: int, verbose: bool, build: bool) -> None:\n",
    "        self.input_shape = input_shape\n",
    "        self.num_class = num_class\n",
    "        self.verbose = verbose\n",
    "        if build:\n",
    "            self.model = self.build_model()\n",
    "\n",
    "        self.model.summary()\n",
    "\n",
    "    def build_model(self):\n",
    "        input_layer = keras.layers.Input(self.input_shape)\n",
    "\n",
    "        conv1 = keras.layers.Conv1D(\n",
    "            filters=64, kernel_size=3, padding=\"same\")(input_layer)\n",
    "        conv1 = keras.layers.BatchNormalization()(conv1)\n",
    "        conv1 = keras.layers.ReLU()(conv1)\n",
    "\n",
    "        conv2 = keras.layers.Conv1D(\n",
    "            filters=64, kernel_size=3, padding=\"same\")(conv1)\n",
    "        conv2 = keras.layers.BatchNormalization()(conv2)\n",
    "        conv2 = keras.layers.ReLU()(conv2)\n",
    "\n",
    "        conv3 = keras.layers.Conv1D(\n",
    "            filters=64, kernel_size=3, padding=\"same\")(conv2)\n",
    "        conv3 = keras.layers.BatchNormalization()(conv3)\n",
    "        conv3 = keras.layers.ReLU()(conv3)\n",
    "\n",
    "        gap = keras.layers.GlobalAveragePooling1D()(conv3)\n",
    "\n",
    "        output_layer = keras.layers.Dense(num_class, activation=\"softmax\")(gap)\n",
    "\n",
    "        model = keras.models.Model(inputs=input_layer, outputs=output_layer)\n",
    "\n",
    "        model.compile(loss='categorical_crossentropy',\n",
    "                      optimizer=keras.optimizers.Adam(), metrics=['accuracy'])\n",
    "\n",
    "        self.reduce_lr = keras.callbacks.ReduceLROnPlateau(\n",
    "            monitor='loss', factor=0.5, patience=200, min_lr=0.1)\n",
    "\n",
    "        return model\n",
    "\n",
    "    def fit(self, num_epochs: int, x_train: tuple, y_train: tuple, x_val: tuple, y_val: tuple) -> None:\n",
    "        batch_size = 1024\n",
    "\n",
    "        history = self.model.fit(x_train, y_train, batch_size=batch_size,\n",
    "                                 epochs=num_epochs, verbose=self.verbose,\n",
    "                                 validation_data=(x_val, y_val),\n",
    "                                 callbacks=self.reduce_lr)\n",
    "\n",
    "        self.model.save('FCN.hdf5')\n",
    "\n",
    "        # summarize history for accuracy\n",
    "        plt.plot(history.history['accuracy'])\n",
    "        plt.plot(history.history['val_accuracy'])\n",
    "        plt.title('model accuracy')\n",
    "        plt.ylabel('accuracy')\n",
    "        plt.xlabel('epoch')\n",
    "        plt.legend(['train', 'test'], loc='upper left')\n",
    "        plt.show()\n",
    "\n",
    "        # summarize history for loss\n",
    "        plt.plot(history.history['loss'])\n",
    "        plt.plot(history.history['val_loss'])\n",
    "        plt.title('model loss')\n",
    "        plt.ylabel('loss')\n",
    "        plt.xlabel('epoch')\n",
    "        plt.legend(['train', 'test'], loc='upper left')\n",
    "        plt.show()\n",
    "\n",
    "        keras.backend.clear_session()\n",
    "\n",
    "    def predict(self, x: np.array) -> np.array:\n",
    "        y_pred = self.model.predict(x)\n",
    "\n",
    "        return y_pred"
   ]
  },
  {
   "cell_type": "code",
   "execution_count": null,
   "metadata": {
    "id": "i90xL2qjid7F"
   },
   "outputs": [],
   "source": [
    "# add a dimension to make it multivariate\n",
    "X_train = X_train.reshape(X_train.shape[0], X_train.shape[1], 1)\n",
    "X_test = X_test.reshape(X_test.shape[0], X_test.shape[1], 1)"
   ]
  },
  {
   "cell_type": "code",
   "execution_count": null,
   "metadata": {
    "id": "E1088luofoCJ"
   },
   "outputs": [],
   "source": [
    "input_shape = X_train.shape[1:]\n",
    "classifier_fcn = FCN(input_shape, num_class, False, True)"
   ]
  },
  {
   "cell_type": "code",
   "execution_count": null,
   "metadata": {
    "id": "ZtmaZrutaqdx"
   },
   "outputs": [],
   "source": [
    "classifier_fcn.fit(1000, X_train, Y_train, X_test, Y_test)"
   ]
  },
  {
   "cell_type": "code",
   "execution_count": null,
   "metadata": {
    "id": "UcJFrI4NqlFr"
   },
   "outputs": [],
   "source": []
  }
 ],
 "metadata": {
  "accelerator": "GPU",
  "colab": {
   "collapsed_sections": [],
   "name": "main.ipynb",
   "provenance": []
  },
  "kernelspec": {
   "display_name": "Python 3",
   "language": "python",
   "name": "python3"
  },
  "language_info": {
   "codemirror_mode": {
    "name": "ipython",
    "version": 3
   },
   "file_extension": ".py",
   "mimetype": "text/x-python",
   "name": "python",
   "nbconvert_exporter": "python",
   "pygments_lexer": "ipython3",
   "version": "3.6.13"
  }
 },
 "nbformat": 4,
 "nbformat_minor": 1
}
